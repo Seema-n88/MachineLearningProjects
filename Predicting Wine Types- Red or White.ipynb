{
 "cells": [
  {
   "cell_type": "code",
   "execution_count": 1,
   "metadata": {
    "collapsed": true
   },
   "outputs": [],
   "source": [
    "# Import pandas \n",
    "import pandas as pd\n",
    "\n",
    "# Read in white wine data \n",
    "white = pd.read_csv(\"http://archive.ics.uci.edu/ml/machine-learning-databases/wine-quality/winequality-white.csv\", sep=';')\n",
    "\n",
    "# Read in red wine data \n",
    "red = pd.read_csv(\"http://archive.ics.uci.edu/ml/machine-learning-databases/wine-quality/winequality-red.csv\", sep=';')"
   ]
  },
  {
   "cell_type": "code",
   "execution_count": 3,
   "metadata": {},
   "outputs": [
    {
     "name": "stdout",
     "output_type": "stream",
     "text": [
      "<class 'pandas.core.frame.DataFrame'>\n",
      "RangeIndex: 4898 entries, 0 to 4897\n",
      "Data columns (total 12 columns):\n",
      "fixed acidity           4898 non-null float64\n",
      "volatile acidity        4898 non-null float64\n",
      "citric acid             4898 non-null float64\n",
      "residual sugar          4898 non-null float64\n",
      "chlorides               4898 non-null float64\n",
      "free sulfur dioxide     4898 non-null float64\n",
      "total sulfur dioxide    4898 non-null float64\n",
      "density                 4898 non-null float64\n",
      "pH                      4898 non-null float64\n",
      "sulphates               4898 non-null float64\n",
      "alcohol                 4898 non-null float64\n",
      "quality                 4898 non-null int64\n",
      "dtypes: float64(11), int64(1)\n",
      "memory usage: 459.3 KB\n",
      "None\n",
      "<class 'pandas.core.frame.DataFrame'>\n",
      "RangeIndex: 1599 entries, 0 to 1598\n",
      "Data columns (total 12 columns):\n",
      "fixed acidity           1599 non-null float64\n",
      "volatile acidity        1599 non-null float64\n",
      "citric acid             1599 non-null float64\n",
      "residual sugar          1599 non-null float64\n",
      "chlorides               1599 non-null float64\n",
      "free sulfur dioxide     1599 non-null float64\n",
      "total sulfur dioxide    1599 non-null float64\n",
      "density                 1599 non-null float64\n",
      "pH                      1599 non-null float64\n",
      "sulphates               1599 non-null float64\n",
      "alcohol                 1599 non-null float64\n",
      "quality                 1599 non-null int64\n",
      "dtypes: float64(11), int64(1)\n",
      "memory usage: 150.0 KB\n",
      "None\n"
     ]
    }
   ],
   "source": [
    "# Print info on white wine\n",
    "print(white.info())\n",
    "\n",
    "# Print info on red wine\n",
    "print(red.info())"
   ]
  },
  {
   "cell_type": "code",
   "execution_count": 94,
   "metadata": {},
   "outputs": [
    {
     "data": {
      "text/html": [
       "<div>\n",
       "<style>\n",
       "    .dataframe thead tr:only-child th {\n",
       "        text-align: right;\n",
       "    }\n",
       "\n",
       "    .dataframe thead th {\n",
       "        text-align: left;\n",
       "    }\n",
       "\n",
       "    .dataframe tbody tr th {\n",
       "        vertical-align: top;\n",
       "    }\n",
       "</style>\n",
       "<table border=\"1\" class=\"dataframe\">\n",
       "  <thead>\n",
       "    <tr style=\"text-align: right;\">\n",
       "      <th></th>\n",
       "      <th>fixed acidity</th>\n",
       "      <th>volatile acidity</th>\n",
       "      <th>citric acid</th>\n",
       "      <th>residual sugar</th>\n",
       "      <th>chlorides</th>\n",
       "      <th>free sulfur dioxide</th>\n",
       "      <th>total sulfur dioxide</th>\n",
       "      <th>density</th>\n",
       "      <th>pH</th>\n",
       "      <th>sulphates</th>\n",
       "      <th>alcohol</th>\n",
       "      <th>quality</th>\n",
       "      <th>type</th>\n",
       "    </tr>\n",
       "  </thead>\n",
       "  <tbody>\n",
       "    <tr>\n",
       "      <th>count</th>\n",
       "      <td>4898.000000</td>\n",
       "      <td>4898.000000</td>\n",
       "      <td>4898.000000</td>\n",
       "      <td>4898.000000</td>\n",
       "      <td>4898.000000</td>\n",
       "      <td>4898.000000</td>\n",
       "      <td>4898.000000</td>\n",
       "      <td>4898.000000</td>\n",
       "      <td>4898.000000</td>\n",
       "      <td>4898.000000</td>\n",
       "      <td>4898.000000</td>\n",
       "      <td>4898.000000</td>\n",
       "      <td>4898.0</td>\n",
       "    </tr>\n",
       "    <tr>\n",
       "      <th>mean</th>\n",
       "      <td>6.854788</td>\n",
       "      <td>0.278241</td>\n",
       "      <td>0.334192</td>\n",
       "      <td>6.391415</td>\n",
       "      <td>0.045772</td>\n",
       "      <td>35.308085</td>\n",
       "      <td>138.360657</td>\n",
       "      <td>0.994027</td>\n",
       "      <td>3.188267</td>\n",
       "      <td>0.489847</td>\n",
       "      <td>10.514267</td>\n",
       "      <td>5.877909</td>\n",
       "      <td>0.0</td>\n",
       "    </tr>\n",
       "    <tr>\n",
       "      <th>std</th>\n",
       "      <td>0.843868</td>\n",
       "      <td>0.100795</td>\n",
       "      <td>0.121020</td>\n",
       "      <td>5.072058</td>\n",
       "      <td>0.021848</td>\n",
       "      <td>17.007137</td>\n",
       "      <td>42.498065</td>\n",
       "      <td>0.002991</td>\n",
       "      <td>0.151001</td>\n",
       "      <td>0.114126</td>\n",
       "      <td>1.230621</td>\n",
       "      <td>0.885639</td>\n",
       "      <td>0.0</td>\n",
       "    </tr>\n",
       "    <tr>\n",
       "      <th>min</th>\n",
       "      <td>3.800000</td>\n",
       "      <td>0.080000</td>\n",
       "      <td>0.000000</td>\n",
       "      <td>0.600000</td>\n",
       "      <td>0.009000</td>\n",
       "      <td>2.000000</td>\n",
       "      <td>9.000000</td>\n",
       "      <td>0.987110</td>\n",
       "      <td>2.720000</td>\n",
       "      <td>0.220000</td>\n",
       "      <td>8.000000</td>\n",
       "      <td>3.000000</td>\n",
       "      <td>0.0</td>\n",
       "    </tr>\n",
       "    <tr>\n",
       "      <th>25%</th>\n",
       "      <td>6.300000</td>\n",
       "      <td>0.210000</td>\n",
       "      <td>0.270000</td>\n",
       "      <td>1.700000</td>\n",
       "      <td>0.036000</td>\n",
       "      <td>23.000000</td>\n",
       "      <td>108.000000</td>\n",
       "      <td>0.991723</td>\n",
       "      <td>3.090000</td>\n",
       "      <td>0.410000</td>\n",
       "      <td>9.500000</td>\n",
       "      <td>5.000000</td>\n",
       "      <td>0.0</td>\n",
       "    </tr>\n",
       "    <tr>\n",
       "      <th>50%</th>\n",
       "      <td>6.800000</td>\n",
       "      <td>0.260000</td>\n",
       "      <td>0.320000</td>\n",
       "      <td>5.200000</td>\n",
       "      <td>0.043000</td>\n",
       "      <td>34.000000</td>\n",
       "      <td>134.000000</td>\n",
       "      <td>0.993740</td>\n",
       "      <td>3.180000</td>\n",
       "      <td>0.470000</td>\n",
       "      <td>10.400000</td>\n",
       "      <td>6.000000</td>\n",
       "      <td>0.0</td>\n",
       "    </tr>\n",
       "    <tr>\n",
       "      <th>75%</th>\n",
       "      <td>7.300000</td>\n",
       "      <td>0.320000</td>\n",
       "      <td>0.390000</td>\n",
       "      <td>9.900000</td>\n",
       "      <td>0.050000</td>\n",
       "      <td>46.000000</td>\n",
       "      <td>167.000000</td>\n",
       "      <td>0.996100</td>\n",
       "      <td>3.280000</td>\n",
       "      <td>0.550000</td>\n",
       "      <td>11.400000</td>\n",
       "      <td>6.000000</td>\n",
       "      <td>0.0</td>\n",
       "    </tr>\n",
       "    <tr>\n",
       "      <th>max</th>\n",
       "      <td>14.200000</td>\n",
       "      <td>1.100000</td>\n",
       "      <td>1.660000</td>\n",
       "      <td>65.800000</td>\n",
       "      <td>0.346000</td>\n",
       "      <td>289.000000</td>\n",
       "      <td>440.000000</td>\n",
       "      <td>1.038980</td>\n",
       "      <td>3.820000</td>\n",
       "      <td>1.080000</td>\n",
       "      <td>14.200000</td>\n",
       "      <td>9.000000</td>\n",
       "      <td>0.0</td>\n",
       "    </tr>\n",
       "  </tbody>\n",
       "</table>\n",
       "</div>"
      ],
      "text/plain": [
       "       fixed acidity  volatile acidity  citric acid  residual sugar  \\\n",
       "count    4898.000000       4898.000000  4898.000000     4898.000000   \n",
       "mean        6.854788          0.278241     0.334192        6.391415   \n",
       "std         0.843868          0.100795     0.121020        5.072058   \n",
       "min         3.800000          0.080000     0.000000        0.600000   \n",
       "25%         6.300000          0.210000     0.270000        1.700000   \n",
       "50%         6.800000          0.260000     0.320000        5.200000   \n",
       "75%         7.300000          0.320000     0.390000        9.900000   \n",
       "max        14.200000          1.100000     1.660000       65.800000   \n",
       "\n",
       "         chlorides  free sulfur dioxide  total sulfur dioxide      density  \\\n",
       "count  4898.000000          4898.000000           4898.000000  4898.000000   \n",
       "mean      0.045772            35.308085            138.360657     0.994027   \n",
       "std       0.021848            17.007137             42.498065     0.002991   \n",
       "min       0.009000             2.000000              9.000000     0.987110   \n",
       "25%       0.036000            23.000000            108.000000     0.991723   \n",
       "50%       0.043000            34.000000            134.000000     0.993740   \n",
       "75%       0.050000            46.000000            167.000000     0.996100   \n",
       "max       0.346000           289.000000            440.000000     1.038980   \n",
       "\n",
       "                pH    sulphates      alcohol      quality    type  \n",
       "count  4898.000000  4898.000000  4898.000000  4898.000000  4898.0  \n",
       "mean      3.188267     0.489847    10.514267     5.877909     0.0  \n",
       "std       0.151001     0.114126     1.230621     0.885639     0.0  \n",
       "min       2.720000     0.220000     8.000000     3.000000     0.0  \n",
       "25%       3.090000     0.410000     9.500000     5.000000     0.0  \n",
       "50%       3.180000     0.470000    10.400000     6.000000     0.0  \n",
       "75%       3.280000     0.550000    11.400000     6.000000     0.0  \n",
       "max       3.820000     1.080000    14.200000     9.000000     0.0  "
      ]
     },
     "execution_count": 94,
     "metadata": {},
     "output_type": "execute_result"
    }
   ],
   "source": [
    "# First rows of `red` \n",
    "red.head(5)\n",
    "\n",
    "# Last rows of `white`\n",
    "white.tail()\n",
    "\n",
    "# # Take a sample of 5 rows of `red`\n",
    "red.sample(5)\n",
    "\n",
    "# # Describe `white`\n",
    "white.describe()\n",
    "\n",
    "# # Double check for null values in `red`\n",
    "# pd.isnull(red)\n",
    "\n"
   ]
  },
  {
   "cell_type": "code",
   "execution_count": 17,
   "metadata": {},
   "outputs": [
    {
     "data": {
      "image/png": "[encoded data removed]",
      "text/plain": [
       "<matplotlib.figure.Figure at 0x1090b5110>"
      ]
     },
     "metadata": {},
     "output_type": "display_data"
    }
   ],
   "source": [
    "import matplotlib.pyplot as plt\n",
    "\n",
    "fig, ax = plt.subplots(1, 2)\n",
    "\n",
    "ax[0].hist(red.alcohol, 10, facecolor='red', alpha=0.5, label=\"Red wine\")\n",
    "ax[1].hist(white.alcohol, 10, facecolor='white', ec=\"black\", lw=0.5, alpha=0.5, label=\"White wine\")\n",
    "\n",
    "fig.subplots_adjust(left=0, right=1, bottom=0, top=0.5, hspace=0.05, wspace=1)\n",
    "ax[0].set_ylim([0, 1000])\n",
    "ax[0].set_xlabel(\"Alcohol in % Vol\")\n",
    "ax[0].set_ylabel(\"Frequency\")\n",
    "ax[1].set_xlabel(\"Alcohol in % Vol\")\n",
    "ax[1].set_ylabel(\"Frequency\")\n",
    "ax[0].legend(loc='best')\n",
    "ax[1].legend(loc='best')\n",
    "fig.suptitle(\"Distribution of Alcohol in % Vol\")\n",
    "plt.show()"
   ]
  },
  {
   "cell_type": "code",
   "execution_count": 20,
   "metadata": {},
   "outputs": [
    {
     "name": "stdout",
     "output_type": "stream",
     "text": [
      "(array([  0,   7, 673, 452, 305, 133,  21,   8]), array([ 7,  8,  9, 10, 11, 12, 13, 14, 15]))\n",
      "(array([   0,  317, 1606, 1256,  906,  675,  131,    7]), array([ 7,  8,  9, 10, 11, 12, 13, 14, 15]))\n"
     ]
    }
   ],
   "source": [
    "import numpy as np\n",
    "print(np.histogram(red.alcohol, bins=[7,8,9,10,11,12,13,14,15]))\n",
    "print(np.histogram(white.alcohol, bins=[7,8,9,10,11,12,13,14,15]))"
   ]
  },
  {
   "cell_type": "code",
   "execution_count": 23,
   "metadata": {},
   "outputs": [
    {
     "data": {
      "image/png": "[encoded data removed]",
      "text/plain": [
       "<matplotlib.figure.Figure at 0x1090c0550>"
      ]
     },
     "metadata": {},
     "output_type": "display_data"
    }
   ],
   "source": [
    "#sulphate vs quality of wine\n",
    "import matplotlib.pyplot as plt\n",
    "\n",
    "fig, ax = plt.subplots(1, 2, figsize=(8, 4))\n",
    "\n",
    "ax[0].scatter(red['quality'], red[\"sulphates\"], color=\"red\")\n",
    "ax[1].scatter(white['quality'], white['sulphates'], color=\"white\", edgecolors=\"black\", lw=0.5)\n",
    "\n",
    "ax[0].set_title(\"Red Wine\")\n",
    "ax[1].set_title(\"White Wine\")\n",
    "ax[0].set_xlabel(\"Quality\")\n",
    "ax[1].set_xlabel(\"Quality\")\n",
    "ax[0].set_ylabel(\"Sulphates\")\n",
    "ax[1].set_ylabel(\"Sulphates\")\n",
    "ax[0].set_xlim([0,10])\n",
    "ax[1].set_xlim([0,10])\n",
    "ax[0].set_ylim([0,2.5])\n",
    "ax[1].set_ylim([0,2.5])\n",
    "fig.subplots_adjust(wspace=0.5)\n",
    "fig.suptitle(\"Wine Quality by Amount of Sulphates\")\n",
    "\n",
    "plt.show()"
   ]
  },
  {
   "cell_type": "code",
   "execution_count": 37,
   "metadata": {},
   "outputs": [
    {
     "data": {
      "image/png": "[encoded data removed]",
      "text/plain": [
       "<matplotlib.figure.Figure at 0x109ae3fd0>"
      ]
     },
     "metadata": {},
     "output_type": "display_data"
    }
   ],
   "source": [
    "import matplotlib.pyplot as plt\n",
    "import numpy as np\n",
    "\n",
    "np.random.seed(570)\n",
    "\n",
    "redlabels = np.unique(red['quality'])\n",
    "whitelabels = np.unique(white['quality'])\n",
    "\n",
    "import matplotlib.pyplot as plt\n",
    "fig, ax = plt.subplots(1, 2, figsize=(8, 4))\n",
    "redcolors = np.random.rand(6,4)\n",
    "whitecolors = np.append(redcolors, np.random.rand(1,4), axis=0)\n",
    "\n",
    "for i in range(len(redcolors)):\n",
    "    redy = red['alcohol'][red.quality == redlabels[i]]\n",
    "    redx = red['volatile acidity'][red.quality == redlabels[i]]\n",
    "    ax[0].scatter(redx, redy, c=redcolors[i])\n",
    "for i in range(len(whitecolors)):\n",
    "    whitey = white['alcohol'][white.quality == whitelabels[i]]\n",
    "    whitex = white['volatile acidity'][white.quality == whitelabels[i]]\n",
    "    ax[1].scatter(whitex, whitey, c=whitecolors[i])\n",
    "    \n",
    "ax[0].set_title(\"Red Wine\")\n",
    "ax[1].set_title(\"White Wine\")\n",
    "ax[0].set_xlim([0,1.7])\n",
    "ax[1].set_xlim([0,1.7])\n",
    "ax[0].set_ylim([5,15.5])\n",
    "ax[1].set_ylim([5,15.5])\n",
    "ax[0].set_xlabel(\"Volatile Acidity\")\n",
    "ax[0].set_ylabel(\"Alcohol\")\n",
    "ax[1].set_xlabel(\"Volatile Acidity\")\n",
    "ax[1].set_ylabel(\"Alcohol\") \n",
    "ax[0].legend(redlabels, loc='best', bbox_to_anchor=(1.3, 1))\n",
    "ax[1].legend(whitelabels, loc='best', bbox_to_anchor=(1.3, 1))\n",
    "#fig.suptitle(\"Alcohol - Volatile Acidity\")\n",
    "fig.subplots_adjust(top=0.85, wspace=0.7)\n",
    "\n",
    "plt.show()"
   ]
  },
  {
   "cell_type": "code",
   "execution_count": 40,
   "metadata": {},
   "outputs": [],
   "source": [
    "# Add `type` column to `red` with value 1\n",
    "red['type'] = 1\n",
    "\n",
    "# Add `type` column to `white` with value 0\n",
    "white['type'] = 0\n",
    "\n",
    "# Append `white` to `red`\n",
    "wines = red.append(white, ignore_index=True)\n"
   ]
  },
  {
   "cell_type": "code",
   "execution_count": 48,
   "metadata": {},
   "outputs": [
    {
     "data": {
      "image/png": "[encoded data removed]",
      "text/plain": [
       "<matplotlib.figure.Figure at 0x109c6fa90>"
      ]
     },
     "metadata": {},
     "output_type": "display_data"
    }
   ],
   "source": [
    "import seaborn as sns\n",
    "import matplotlib.pyplot as plt\n",
    "%matplotlib inline\n",
    "corr = wines.corr()\n",
    "sns.heatmap(corr, \n",
    "            xticklabels=corr.columns.values,\n",
    "            yticklabels=corr.columns.values)\n",
    "plt.show()"
   ]
  },
  {
   "cell_type": "code",
   "execution_count": 52,
   "metadata": {},
   "outputs": [],
   "source": [
    "# Import `train_test_split` from `sklearn.model_selection`\n",
    "from sklearn.model_selection import train_test_split\n",
    "\n",
    "# Specify the data \n",
    "X=wines.ix[:,0:11]\n",
    "\n",
    "# Specify the target labels and flatten the array \n",
    "y=np.ravel(wines.type)\n",
    "\n",
    "# Split the data up in train and test sets\n",
    "X_train, X_test, y_train, y_test = train_test_split(X, y, test_size=0.33, random_state=42)"
   ]
  },
  {
   "cell_type": "code",
   "execution_count": 54,
   "metadata": {
    "collapsed": true
   },
   "outputs": [],
   "source": [
    "# Import `StandardScaler` from `sklearn.preprocessing`\n",
    "from sklearn.preprocessing import StandardScaler\n",
    "\n",
    "# Define the scaler \n",
    "scaler = StandardScaler().fit(X_train)\n",
    "\n",
    "# Scale the train set\n",
    "X_train = scaler.transform(X_train)\n",
    "\n",
    "# Scale the test set\n",
    "X_test = scaler.transform(X_test)"
   ]
  },
  {
   "cell_type": "code",
   "execution_count": 69,
   "metadata": {},
   "outputs": [],
   "source": [
    "# Import `Sequential` from `keras.models`\n",
    "from keras.models import Sequential\n",
    "\n",
    "# Import `Dense` from `keras.layers`\n",
    "from keras.layers import Dense\n",
    "\n",
    "# Initialize the constructor\n",
    "model = Sequential()\n",
    "\n",
    "# Add an input layer \n",
    "model.add(Dense(12, activation='relu', input_shape=(11,)))\n",
    "\n",
    "# Add one hidden layer \n",
    "model.add(Dense(8, activation='relu'))\n",
    "\n",
    "# Add an output layer \n",
    "model.add(Dense(1, activation='sigmoid'))\n",
    "\n"
   ]
  },
  {
   "cell_type": "code",
   "execution_count": 67,
   "metadata": {},
   "outputs": [
    {
     "name": "stdout",
     "output_type": "stream",
     "text": [
      "_________________________________________________________________\n",
      "Layer (type)                 Output Shape              Param #   \n",
      "=================================================================\n",
      "dense_10 (Dense)             (None, 12)                144       \n",
      "_________________________________________________________________\n",
      "dense_11 (Dense)             (None, 8)                 104       \n",
      "_________________________________________________________________\n",
      "dense_12 (Dense)             (None, 1)                 9         \n",
      "=================================================================\n",
      "Total params: 257\n",
      "Trainable params: 257\n",
      "Non-trainable params: 0\n",
      "_________________________________________________________________\n"
     ]
    },
    {
     "data": {
      "text/plain": [
       "[array([[-0.15335792, -0.04764646, -0.12356523, -0.07403594, -0.26548889,\n",
       "          0.01632428,  0.15709829, -0.28019252, -0.09384832,  0.39197534,\n",
       "         -0.23419207,  0.48965222],\n",
       "        [ 0.12054586, -0.44437924, -0.0664016 , -0.38137475, -0.39792848,\n",
       "         -0.46418992,  0.25976992, -0.20623636, -0.2568447 , -0.22813141,\n",
       "          0.29296494,  0.2565316 ],\n",
       "        [-0.32364887, -0.2702221 ,  0.23922849, -0.22831458,  0.08764857,\n",
       "          0.30255872,  0.28598577,  0.3713935 , -0.32493579,  0.11672854,\n",
       "          0.23133284, -0.2093333 ],\n",
       "        [ 0.22430533,  0.49069673,  0.27613932,  0.24729401,  0.44357514,\n",
       "         -0.16487244, -0.01835561,  0.15444303, -0.000916  ,  0.12993968,\n",
       "          0.48855323, -0.49913359],\n",
       "        [ 0.45799285, -0.04355428,  0.5038411 ,  0.45022255, -0.4953126 ,\n",
       "         -0.12181535, -0.02816737,  0.16002381,  0.16471422, -0.45396462,\n",
       "         -0.11850995,  0.22744852],\n",
       "        [-0.15791553, -0.17603111,  0.3394894 , -0.49398696, -0.00512278,\n",
       "          0.42923456, -0.09622678,  0.08633173, -0.02659246, -0.35514879,\n",
       "          0.49808949,  0.08971822],\n",
       "        [-0.24267712,  0.36291975, -0.50352389,  0.28668326, -0.32744116,\n",
       "         -0.50923055, -0.46698412,  0.16828477, -0.26861614, -0.35954654,\n",
       "          0.07952678,  0.16997838],\n",
       "        [ 0.19194698, -0.37973094,  0.36791795, -0.1991483 ,  0.20642817,\n",
       "          0.19792652, -0.21873686,  0.49795741,  0.04829818, -0.22882274,\n",
       "         -0.0815894 , -0.27920383],\n",
       "        [ 0.50337023, -0.00179797,  0.13433927, -0.49272674,  0.36328268,\n",
       "         -0.3333956 , -0.26101214,  0.48848671,  0.23312217, -0.08808723,\n",
       "          0.42591906,  0.39700007],\n",
       "        [-0.36180544,  0.34169763,  0.21834344,  0.49469227,  0.3556146 ,\n",
       "         -0.12255478,  0.19733363, -0.26722807,  0.4614135 , -0.10466298,\n",
       "         -0.09818771,  0.26488769],\n",
       "        [-0.00163311,  0.05276144, -0.33473998,  0.38252479, -0.24601942,\n",
       "         -0.33127907,  0.3612985 , -0.26677787,  0.455441  ,  0.22618222,\n",
       "         -0.04515606,  0.47356099]], dtype=float32),\n",
       " array([ 0.,  0.,  0.,  0.,  0.,  0.,  0.,  0.,  0.,  0.,  0.,  0.], dtype=float32),\n",
       " array([[ 0.10531443,  0.48274601, -0.42788658, -0.50148976,  0.39848161,\n",
       "          0.28220475, -0.06519201,  0.03201503],\n",
       "        [ 0.49725974, -0.07433221, -0.42514387,  0.15307748,  0.00979704,\n",
       "         -0.04450297, -0.38828707,  0.24025416],\n",
       "        [-0.04135513,  0.25403935, -0.3064031 ,  0.01382226,  0.49970007,\n",
       "          0.05784726,  0.00806153, -0.06323203],\n",
       "        [-0.48274291,  0.54640365, -0.39112067,  0.2235797 , -0.17040825,\n",
       "         -0.11452043,  0.431189  ,  0.28436667],\n",
       "        [-0.05901119, -0.36638433, -0.43321729, -0.32251418, -0.04323262,\n",
       "         -0.24556708, -0.13679367,  0.29855704],\n",
       "        [-0.32660902,  0.12809104, -0.5340032 , -0.01001161, -0.03564978,\n",
       "         -0.2780256 , -0.28187373,  0.44371116],\n",
       "        [ 0.48661339, -0.33021516, -0.52236134,  0.50013602, -0.52874553,\n",
       "         -0.38382253, -0.13898218, -0.49797863],\n",
       "        [ 0.31604046, -0.2267057 , -0.31634459, -0.06305981,  0.04827118,\n",
       "         -0.11189929, -0.38686925, -0.09094501],\n",
       "        [ 0.37673217, -0.42837238,  0.23888755, -0.51402426,  0.31260079,\n",
       "         -0.02887046, -0.24580735,  0.22366327],\n",
       "        [-0.19567636,  0.40459555,  0.08201516, -0.29297456,  0.27609736,\n",
       "          0.42571557, -0.27412206, -0.22026318],\n",
       "        [ 0.30715829, -0.01603478, -0.3704952 ,  0.5067091 , -0.11268309,\n",
       "          0.00995594, -0.17187685, -0.15039718],\n",
       "        [ 0.28290445, -0.26977849, -0.53729469,  0.22506094, -0.12239525,\n",
       "         -0.20899862, -0.23840517,  0.23353362]], dtype=float32),\n",
       " array([ 0.,  0.,  0.,  0.,  0.,  0.,  0.,  0.], dtype=float32),\n",
       " array([[-0.3167935 ],\n",
       "        [-0.77314389],\n",
       "        [-0.34294713],\n",
       "        [-0.41777223],\n",
       "        [-0.54331553],\n",
       "        [ 0.46320033],\n",
       "        [ 0.00800788],\n",
       "        [ 0.6576978 ]], dtype=float32),\n",
       " array([ 0.], dtype=float32)]"
      ]
     },
     "execution_count": 67,
     "metadata": {},
     "output_type": "execute_result"
    }
   ],
   "source": [
    "# Model output shape\n",
    "model.output_shape\n",
    "\n",
    "# Model summary\n",
    "model.summary()\n",
    "\n",
    "# # Model config\n",
    "model.get_config()\n",
    "\n",
    "# # List all weight tensors \n",
    "model.get_weights()"
   ]
  },
  {
   "cell_type": "code",
   "execution_count": 70,
   "metadata": {},
   "outputs": [
    {
     "name": "stdout",
     "output_type": "stream",
     "text": [
      "Epoch 1/20\n",
      "4352/4352 [==============================] - 10s 2ms/step - loss: 0.1748 - acc: 0.9419\n",
      "Epoch 2/20\n",
      "4352/4352 [==============================] - 9s 2ms/step - loss: 0.0460 - acc: 0.9945\n",
      "Epoch 3/20\n",
      "4352/4352 [==============================] - 10s 2ms/step - loss: 0.0225 - acc: 0.9963\n",
      "Epoch 4/20\n",
      "4352/4352 [==============================] - 10s 2ms/step - loss: 0.0198 - acc: 0.9970\n",
      "Epoch 5/20\n",
      "4352/4352 [==============================] - 9s 2ms/step - loss: 0.0180 - acc: 0.9966\n",
      "Epoch 6/20\n",
      "4352/4352 [==============================] - 9s 2ms/step - loss: 0.0169 - acc: 0.9972\n",
      "Epoch 7/20\n",
      "4352/4352 [==============================] - 10s 2ms/step - loss: 0.0156 - acc: 0.9970\n",
      "Epoch 8/20\n",
      "4352/4352 [==============================] - 9s 2ms/step - loss: 0.0145 - acc: 0.9975\n",
      "Epoch 9/20\n",
      "4352/4352 [==============================] - 9s 2ms/step - loss: 0.0140 - acc: 0.9970\n",
      "Epoch 10/20\n",
      "4352/4352 [==============================] - 11s 3ms/step - loss: 0.0132 - acc: 0.9975\n",
      "Epoch 11/20\n",
      "4352/4352 [==============================] - 9s 2ms/step - loss: 0.0125 - acc: 0.9975\n",
      "Epoch 12/20\n",
      "4352/4352 [==============================] - 11s 2ms/step - loss: 0.0126 - acc: 0.9975\n",
      "Epoch 13/20\n",
      "4352/4352 [==============================] - 12s 3ms/step - loss: 0.0118 - acc: 0.9972\n",
      "Epoch 14/20\n",
      "4352/4352 [==============================] - 12s 3ms/step - loss: 0.0118 - acc: 0.9972\n",
      "Epoch 15/20\n",
      "4352/4352 [==============================] - 10s 2ms/step - loss: 0.0105 - acc: 0.9979\n",
      "Epoch 16/20\n",
      "4352/4352 [==============================] - 11s 2ms/step - loss: 0.0115 - acc: 0.9977\n",
      "Epoch 17/20\n",
      "4352/4352 [==============================] - 11s 2ms/step - loss: 0.0109 - acc: 0.9975\n",
      "Epoch 18/20\n",
      "4352/4352 [==============================] - 11s 2ms/step - loss: 0.0109 - acc: 0.9977\n",
      "Epoch 19/20\n",
      "4352/4352 [==============================] - 11s 2ms/step - loss: 0.0096 - acc: 0.9979\n",
      "Epoch 20/20\n",
      "4352/4352 [==============================] - 10s 2ms/step - loss: 0.0106 - acc: 0.9972\n"
     ]
    },
    {
     "data": {
      "text/plain": [
       "<keras.callbacks.History at 0x1a16e9da90>"
      ]
     },
     "execution_count": 70,
     "metadata": {},
     "output_type": "execute_result"
    }
   ],
   "source": [
    "model.compile(loss='binary_crossentropy',\n",
    "              optimizer='adam',\n",
    "              metrics=['accuracy'])\n",
    "                   \n",
    "model.fit(X_train, y_train,epochs=20, batch_size=1, verbose=1)"
   ]
  },
  {
   "cell_type": "code",
   "execution_count": 74,
   "metadata": {
    "collapsed": true
   },
   "outputs": [],
   "source": [
    "y_pred = model.predict(X_test)"
   ]
  },
  {
   "cell_type": "code",
   "execution_count": 76,
   "metadata": {},
   "outputs": [
    {
     "name": "stdout",
     "output_type": "stream",
     "text": [
      "2145/2145 [==============================] - 0s 44us/step\n",
      "[0.023558409481027744, 0.99487179487179489]\n"
     ]
    }
   ],
   "source": [
    "score = model.evaluate(X_test, y_test,verbose=1)\n",
    "\n",
    "print(score)"
   ]
  },
  {
   "cell_type": "code",
   "execution_count": 82,
   "metadata": {},
   "outputs": [
    {
     "data": {
      "text/plain": [
       "array([[1586,    2],\n",
       "       [   9,  548]])"
      ]
     },
     "execution_count": 82,
     "metadata": {},
     "output_type": "execute_result"
    }
   ],
   "source": [
    "# Import the modules from `sklearn.metrics`\n",
    "from sklearn.metrics import confusion_matrix, precision_score, recall_score, f1_score, cohen_kappa_score\n",
    "# Confusion matrix\n",
    "confusion_matrix(y_test, y_pred.round())"
   ]
  },
  {
   "cell_type": "code",
   "execution_count": 85,
   "metadata": {},
   "outputs": [
    {
     "data": {
      "text/plain": [
       "0.99636363636363634"
      ]
     },
     "execution_count": 85,
     "metadata": {},
     "output_type": "execute_result"
    }
   ],
   "source": [
    "precision_score(y_test, y_pred.round())"
   ]
  },
  {
   "cell_type": "code",
   "execution_count": 88,
   "metadata": {},
   "outputs": [
    {
     "data": {
      "text/plain": [
       "0.98384201077199285"
      ]
     },
     "execution_count": 88,
     "metadata": {},
     "output_type": "execute_result"
    }
   ],
   "source": [
    "recall_score(y_test, y_pred.round())"
   ]
  },
  {
   "cell_type": "code",
   "execution_count": 91,
   "metadata": {},
   "outputs": [
    {
     "data": {
      "text/plain": [
       "0.99006323396567297"
      ]
     },
     "execution_count": 91,
     "metadata": {},
     "output_type": "execute_result"
    }
   ],
   "source": [
    "f1_score(y_test,y_pred.round())"
   ]
  },
  {
   "cell_type": "code",
   "execution_count": 96,
   "metadata": {},
   "outputs": [
    {
     "data": {
      "text/plain": [
       "0.98660756095276747"
      ]
     },
     "execution_count": 96,
     "metadata": {},
     "output_type": "execute_result"
    }
   ],
   "source": [
    "cohen_kappa_score(y_test, y_pred.round())"
   ]
  },
  {
   "cell_type": "code",
   "execution_count": null,
   "metadata": {
    "collapsed": true
   },
   "outputs": [],
   "source": [
    "#Experiment further continued"
   ]
  },
  {
   "cell_type": "code",
   "execution_count": 99,
   "metadata": {},
   "outputs": [
    {
     "name": "stdout",
     "output_type": "stream",
     "text": [
      "(None, 1)\n",
      "_________________________________________________________________\n",
      "Layer (type)                 Output Shape              Param #   \n",
      "=================================================================\n",
      "dense_22 (Dense)             (None, 64)                768       \n",
      "_________________________________________________________________\n",
      "dense_23 (Dense)             (None, 8)                 520       \n",
      "_________________________________________________________________\n",
      "dense_24 (Dense)             (None, 1)                 9         \n",
      "=================================================================\n",
      "Total params: 1,297\n",
      "Trainable params: 1,297\n",
      "Non-trainable params: 0\n",
      "_________________________________________________________________\n",
      "None\n"
     ]
    }
   ],
   "source": [
    "from keras.models import Sequential\n",
    "\n",
    "# Import `Dense` from `keras.layers`\n",
    "from keras.layers import Dense\n",
    "\n",
    "# Initialize the constructor\n",
    "model = Sequential()\n",
    "\n",
    "# Add an input layer \n",
    "model.add(Dense(64, activation='relu', input_shape=(11,)))\n",
    "\n",
    "# Add one hidden layer \n",
    "model.add(Dense(8, activation='relu'))\n",
    "\n",
    "# Add an output layer \n",
    "model.add(Dense(1, activation='sigmoid'))\n",
    "\n",
    "# Model output shape\n",
    "print model.output_shape\n",
    "\n",
    "# Model summary\n",
    "print model.summary()\n",
    "\n",
    "# # # Model config\n",
    "# model.get_config()\n",
    "\n",
    "# # # List all weight tensors \n",
    "# model.get_weights()\n",
    "\n"
   ]
  },
  {
   "cell_type": "code",
   "execution_count": 100,
   "metadata": {},
   "outputs": [
    {
     "name": "stdout",
     "output_type": "stream",
     "text": [
      "Epoch 1/20\n",
      "4352/4352 [==============================] - 11s 2ms/step - loss: 0.0535 - acc: 0.9876\n",
      "Epoch 2/20\n",
      "4352/4352 [==============================] - 10s 2ms/step - loss: 0.0219 - acc: 0.9963\n",
      "Epoch 3/20\n",
      "4352/4352 [==============================] - 10s 2ms/step - loss: 0.0189 - acc: 0.9972\n",
      "Epoch 4/20\n",
      "4352/4352 [==============================] - 10s 2ms/step - loss: 0.0171 - acc: 0.9963\n",
      "Epoch 5/20\n",
      "4352/4352 [==============================] - 10s 2ms/step - loss: 0.0144 - acc: 0.9972\n",
      "Epoch 6/20\n",
      "4352/4352 [==============================] - 10s 2ms/step - loss: 0.0131 - acc: 0.9975\n",
      "Epoch 7/20\n",
      "4352/4352 [==============================] - 10s 2ms/step - loss: 0.0119 - acc: 0.9972\n",
      "Epoch 8/20\n",
      "4352/4352 [==============================] - 10s 2ms/step - loss: 0.0108 - acc: 0.9979\n",
      "Epoch 9/20\n",
      "4352/4352 [==============================] - 10s 2ms/step - loss: 0.0098 - acc: 0.9982\n",
      "Epoch 10/20\n",
      "4352/4352 [==============================] - 10s 2ms/step - loss: 0.0110 - acc: 0.9968\n",
      "Epoch 11/20\n",
      "4352/4352 [==============================] - ETA: 0s - loss: 0.0093 - acc: 0.998 - 10s 2ms/step - loss: 0.0092 - acc: 0.9984\n",
      "Epoch 12/20\n",
      "4352/4352 [==============================] - 11s 2ms/step - loss: 0.0110 - acc: 0.9982\n",
      "Epoch 13/20\n",
      "4352/4352 [==============================] - 10s 2ms/step - loss: 0.0072 - acc: 0.9977\n",
      "Epoch 14/20\n",
      "4352/4352 [==============================] - 9s 2ms/step - loss: 0.0079 - acc: 0.9979\n",
      "Epoch 15/20\n",
      "4352/4352 [==============================] - 9s 2ms/step - loss: 0.0059 - acc: 0.9986\n",
      "Epoch 16/20\n",
      "4352/4352 [==============================] - 9s 2ms/step - loss: 0.0049 - acc: 0.9989\n",
      "Epoch 17/20\n",
      "4352/4352 [==============================] - 9s 2ms/step - loss: 0.0072 - acc: 0.9984\n",
      "Epoch 18/20\n",
      "4352/4352 [==============================] - 9s 2ms/step - loss: 0.0086 - acc: 0.9986\n",
      "Epoch 19/20\n",
      "4352/4352 [==============================] - 9s 2ms/step - loss: 0.0043 - acc: 0.9989\n",
      "Epoch 20/20\n",
      "4352/4352 [==============================] - 9s 2ms/step - loss: 0.0057 - acc: 0.9986\n",
      "2145/2145 [==============================] - 0s 67us/step\n",
      "[0.030043961224336991, 0.99627039627039626]\n"
     ]
    }
   ],
   "source": [
    "model.compile(loss='binary_crossentropy',\n",
    "              optimizer='adam',\n",
    "              metrics=['accuracy'])\n",
    "                   \n",
    "model.fit(X_train, y_train,epochs=20, batch_size=1, verbose=1)\n",
    "\n",
    "y_pred = model.predict(X_test)\n",
    "\n",
    "score = model.evaluate(X_test, y_test,verbose=1)\n",
    "\n",
    "print(score)"
   ]
  },
  {
   "cell_type": "code",
   "execution_count": 103,
   "metadata": {},
   "outputs": [
    {
     "name": "stdout",
     "output_type": "stream",
     "text": [
      "(None, 1)\n",
      "_________________________________________________________________\n",
      "Layer (type)                 Output Shape              Param #   \n",
      "=================================================================\n",
      "dense_28 (Dense)             (None, 128)               1536      \n",
      "_________________________________________________________________\n",
      "dense_29 (Dense)             (None, 64)                8256      \n",
      "_________________________________________________________________\n",
      "dense_30 (Dense)             (None, 8)                 520       \n",
      "_________________________________________________________________\n",
      "dense_31 (Dense)             (None, 1)                 9         \n",
      "=================================================================\n",
      "Total params: 10,321\n",
      "Trainable params: 10,321\n",
      "Non-trainable params: 0\n",
      "_________________________________________________________________\n",
      "None\n"
     ]
    }
   ],
   "source": [
    "from keras.models import Sequential\n",
    "\n",
    "# Import `Dense` from `keras.layers`\n",
    "from keras.layers import Dense\n",
    "\n",
    "# Initialize the constructor\n",
    "model = Sequential()\n",
    "\n",
    "# Add an input layer \n",
    "model.add(Dense(128, activation='relu', input_shape=(11,)))\n",
    "\n",
    "# Add one hidden layer \n",
    "model.add(Dense(64, activation='relu'))\n",
    "\n",
    "# Add one hidden layer \n",
    "model.add(Dense(8, activation='relu'))\n",
    "\n",
    "# Add an output layer \n",
    "model.add(Dense(1, activation='sigmoid'))\n",
    "\n",
    "# Model output shape\n",
    "print model.output_shape\n",
    "\n",
    "# Model summary\n",
    "print model.summary()\n",
    "\n",
    "# # # Model config\n",
    "# model.get_config()\n",
    "\n",
    "# # # List all weight tensors \n",
    "# model.get_weights()\n",
    "\n"
   ]
  },
  {
   "cell_type": "code",
   "execution_count": 106,
   "metadata": {},
   "outputs": [
    {
     "name": "stdout",
     "output_type": "stream",
     "text": [
      "Epoch 1/10\n",
      "4352/4352 [==============================] - 12s 3ms/step - loss: 0.0158 - acc: 0.9979\n",
      "Epoch 2/10\n",
      "4352/4352 [==============================] - 11s 3ms/step - loss: 0.0101 - acc: 0.9986\n",
      "Epoch 3/10\n",
      "4352/4352 [==============================] - 13s 3ms/step - loss: 0.0231 - acc: 0.9970\n",
      "Epoch 4/10\n",
      "4352/4352 [==============================] - 14s 3ms/step - loss: 0.0134 - acc: 0.9977\n",
      "Epoch 5/10\n",
      "4352/4352 [==============================] - 11s 3ms/step - loss: 0.0081 - acc: 0.9986\n",
      "Epoch 6/10\n",
      "4352/4352 [==============================] - 12s 3ms/step - loss: 0.0061 - acc: 0.9993\n",
      "Epoch 7/10\n",
      "4352/4352 [==============================] - 11s 3ms/step - loss: 0.0151 - acc: 0.9977\n",
      "Epoch 8/10\n",
      "4352/4352 [==============================] - 14s 3ms/step - loss: 0.0089 - acc: 0.9991\n",
      "Epoch 9/10\n",
      "4352/4352 [==============================] - 13s 3ms/step - loss: 0.0112 - acc: 0.9977\n",
      "Epoch 10/10\n",
      "4352/4352 [==============================] - 16s 4ms/step - loss: 0.0126 - acc: 0.9986\n",
      "2145/2145 [==============================] - 0s 107us/step\n",
      "[0.057642429983208024, 0.99347319347319352]\n"
     ]
    }
   ],
   "source": [
    "model.compile(loss='binary_crossentropy',\n",
    "              optimizer='adam',\n",
    "              metrics=['accuracy'])\n",
    "                   \n",
    "model.fit(X_train, y_train,epochs=10, batch_size=1, verbose=1)\n",
    "\n",
    "y_pred = model.predict(X_test)\n",
    "\n",
    "score = model.evaluate(X_test, y_test,verbose=1)\n",
    "\n",
    "print(score)\n",
    "\n"
   ]
  },
  {
   "cell_type": "code",
   "execution_count": 108,
   "metadata": {},
   "outputs": [
    {
     "name": "stdout",
     "output_type": "stream",
     "text": [
      "0.987432675045\n",
      "0.987432675045\n",
      "0.987432675045\n",
      "0.983024614591\n"
     ]
    }
   ],
   "source": [
    "print precision_score(y_test, y_pred.round())\n",
    "print recall_score(y_test, y_pred.round())\n",
    "print f1_score(y_test,y_pred.round())\n",
    "print cohen_kappa_score(y_test, y_pred.round())"
   ]
  }
 ],
 "metadata": {
  "kernelspec": {
   "display_name": "Python 2",
   "language": "python",
   "name": "python2"
  },
  "language_info": {
   "codemirror_mode": {
    "name": "ipython",
    "version": 2
   },
   "file_extension": ".py",
   "mimetype": "text/x-python",
   "name": "python",
   "nbconvert_exporter": "python",
   "pygments_lexer": "ipython2",
   "version": "2.7.14"
  }
 },
 "nbformat": 4,
 "nbformat_minor": 2
}
