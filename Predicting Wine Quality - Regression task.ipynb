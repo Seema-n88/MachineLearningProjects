{
 "cells": [
  {
   "cell_type": "code",
   "execution_count": 109,
   "metadata": {
    "collapsed": true
   },
   "outputs": [],
   "source": [
    "# Import pandas \n",
    "import pandas as pd\n",
    "import numpy as np\n",
    "\n",
    "# Read in white wine data \n",
    "white = pd.read_csv(\"http://archive.ics.uci.edu/ml/machine-learning-databases/wine-quality/winequality-white.csv\", sep=';')\n",
    "\n",
    "# Read in red wine data \n",
    "red = pd.read_csv(\"http://archive.ics.uci.edu/ml/machine-learning-databases/wine-quality/winequality-red.csv\", sep=';')"
   ]
  },
  {
   "cell_type": "code",
   "execution_count": 110,
   "metadata": {
    "collapsed": true
   },
   "outputs": [],
   "source": [
    "# Append `white` to `red`\n",
    "wines = red.append(white, ignore_index=True)"
   ]
  },
  {
   "cell_type": "code",
   "execution_count": 111,
   "metadata": {},
   "outputs": [
    {
     "name": "stderr",
     "output_type": "stream",
     "text": [
      "/Applications/anaconda2/lib/python2.7/site-packages/ipykernel_launcher.py:5: DeprecationWarning: \n",
      ".ix is deprecated. Please use\n",
      ".loc for label based indexing or\n",
      ".iloc for positional indexing\n",
      "\n",
      "See the documentation here:\n",
      "http://pandas.pydata.org/pandas-docs/stable/indexing.html#ix-indexer-is-deprecated\n",
      "  \"\"\"\n"
     ]
    }
   ],
   "source": [
    "# Import `train_test_split` from `sklearn.model_selection`\n",
    "from sklearn.model_selection import train_test_split\n",
    "\n",
    "# Specify the data \n",
    "X=wines.ix[:,0:11]\n",
    "\n",
    "# Specify the target labels and flatten the array \n",
    "y=np.ravel(wines.quality)\n",
    "\n",
    "# Split the data up in train and test sets\n",
    "X_train, X_test, y_train, y_test = train_test_split(X, y, test_size=0.33, random_state=42)"
   ]
  },
  {
   "cell_type": "code",
   "execution_count": 112,
   "metadata": {
    "collapsed": true
   },
   "outputs": [],
   "source": [
    "# Import `StandardScaler` from `sklearn.preprocessing`\n",
    "from sklearn.preprocessing import StandardScaler\n",
    "\n",
    "# Define the scaler \n",
    "scaler = StandardScaler().fit(X_train)\n",
    "\n",
    "# Scale the train set\n",
    "X_train = scaler.transform(X_train)\n",
    "\n",
    "# Scale the test set\n",
    "X_test = scaler.transform(X_test)"
   ]
  },
  {
   "cell_type": "code",
   "execution_count": 113,
   "metadata": {
    "collapsed": true
   },
   "outputs": [],
   "source": [
    "# Import `Sequential` from `keras.models`\n",
    "from keras.models import Sequential\n",
    "\n",
    "# Import `Dense` from `keras.layers`\n",
    "from keras.layers import Dense\n",
    "\n",
    "# Initialize the constructor\n",
    "model = Sequential()\n",
    "\n",
    "# Add an input layer \n",
    "model.add(Dense(64, activation='relu', input_shape=(11,)))\n",
    "model.add(Dense(64, activation='relu'))\n",
    "# Add an output layer \n",
    "model.add(Dense(1))\n",
    "\n",
    "\n",
    "\n"
   ]
  },
  {
   "cell_type": "code",
   "execution_count": 114,
   "metadata": {},
   "outputs": [
    {
     "name": "stdout",
     "output_type": "stream",
     "text": [
      "_________________________________________________________________\n",
      "Layer (type)                 Output Shape              Param #   \n",
      "=================================================================\n",
      "dense_39 (Dense)             (None, 64)                768       \n",
      "_________________________________________________________________\n",
      "dense_40 (Dense)             (None, 64)                4160      \n",
      "_________________________________________________________________\n",
      "dense_41 (Dense)             (None, 1)                 65        \n",
      "=================================================================\n",
      "Total params: 4,993\n",
      "Trainable params: 4,993\n",
      "Non-trainable params: 0\n",
      "_________________________________________________________________\n"
     ]
    }
   ],
   "source": [
    "# Model output shape\n",
    "model.output_shape\n",
    "\n",
    "# Model summary\n",
    "model.summary()"
   ]
  },
  {
   "cell_type": "code",
   "execution_count": 116,
   "metadata": {},
   "outputs": [
    {
     "name": "stdout",
     "output_type": "stream",
     "text": [
      "Epoch 1/20\n",
      "4352/4352 [==============================] - 9s 2ms/step - loss: 0.7283 - mean_absolute_error: 0.6574\n",
      "Epoch 2/20\n",
      "4352/4352 [==============================] - 8s 2ms/step - loss: 0.5850 - mean_absolute_error: 0.5844\n",
      "Epoch 3/20\n",
      "4352/4352 [==============================] - 8s 2ms/step - loss: 0.5626 - mean_absolute_error: 0.5675\n",
      "Epoch 4/20\n",
      "4352/4352 [==============================] - 8s 2ms/step - loss: 0.5390 - mean_absolute_error: 0.5551\n",
      "Epoch 5/20\n",
      "4352/4352 [==============================] - 8s 2ms/step - loss: 0.5448 - mean_absolute_error: 0.5563\n",
      "Epoch 6/20\n",
      "4352/4352 [==============================] - 9s 2ms/step - loss: 0.5367 - mean_absolute_error: 0.5504\n",
      "Epoch 7/20\n",
      "4352/4352 [==============================] - 9s 2ms/step - loss: 0.5302 - mean_absolute_error: 0.5492\n",
      "Epoch 8/20\n",
      "4352/4352 [==============================] - 9s 2ms/step - loss: 0.5255 - mean_absolute_error: 0.5421\n",
      "Epoch 9/20\n",
      "4352/4352 [==============================] - 10s 2ms/step - loss: 0.5309 - mean_absolute_error: 0.5449\n",
      "Epoch 10/20\n",
      "4352/4352 [==============================] - 11s 3ms/step - loss: 0.5113 - mean_absolute_error: 0.5354\n",
      "Epoch 11/20\n",
      "4352/4352 [==============================] - 10s 2ms/step - loss: 0.5079 - mean_absolute_error: 0.5346\n",
      "Epoch 12/20\n",
      "4352/4352 [==============================] - 14s 3ms/step - loss: 0.4992 - mean_absolute_error: 0.5274\n",
      "Epoch 13/20\n",
      "4352/4352 [==============================] - 15s 4ms/step - loss: 0.4932 - mean_absolute_error: 0.5283\n",
      "Epoch 14/20\n",
      "4352/4352 [==============================] - 10s 2ms/step - loss: 0.4940 - mean_absolute_error: 0.5245\n",
      "Epoch 15/20\n",
      "4352/4352 [==============================] - 11s 3ms/step - loss: 0.4989 - mean_absolute_error: 0.5250\n",
      "Epoch 16/20\n",
      "4352/4352 [==============================] - 11s 2ms/step - loss: 0.4765 - mean_absolute_error: 0.5159\n",
      "Epoch 17/20\n",
      "4352/4352 [==============================] - 13s 3ms/step - loss: 0.4866 - mean_absolute_error: 0.5197\n",
      "Epoch 18/20\n",
      "4352/4352 [==============================] - 10s 2ms/step - loss: 0.4742 - mean_absolute_error: 0.5102\n",
      "Epoch 19/20\n",
      "4352/4352 [==============================] - 12s 3ms/step - loss: 0.4674 - mean_absolute_error: 0.5077\n",
      "Epoch 20/20\n",
      "4352/4352 [==============================] - 9s 2ms/step - loss: 0.4713 - mean_absolute_error: 0.5106\n"
     ]
    },
    {
     "data": {
      "text/plain": [
       "<keras.callbacks.History at 0x1a1b74ecd0>"
      ]
     },
     "execution_count": 116,
     "metadata": {},
     "output_type": "execute_result"
    }
   ],
   "source": [
    "from keras.optimizers import SGD,RMSprop\n",
    "rmsprop = RMSprop(lr=0.0001)\n",
    "sgd=SGD(lr=0.1,clipnorm=1)\n",
    "model.compile(optimizer=sgd,loss='mse',\n",
    "              metrics=['mae'])\n",
    "                   \n",
    "model.fit(X_train, y_train,epochs=20, batch_size=1, verbose=1)"
   ]
  },
  {
   "cell_type": "code",
   "execution_count": 117,
   "metadata": {},
   "outputs": [
    {
     "name": "stdout",
     "output_type": "stream",
     "text": [
      "0.576904892866\n",
      "0.558421637851\n"
     ]
    }
   ],
   "source": [
    "y_pred = model.predict(X_test)\n",
    "mse_value, mae_value = model.evaluate(X_test, y_test, verbose=0)\n",
    "print(mae_value)\n",
    "print(mse_value)\n"
   ]
  },
  {
   "cell_type": "code",
   "execution_count": null,
   "metadata": {
    "collapsed": true
   },
   "outputs": [],
   "source": []
  }
 ],
 "metadata": {
  "kernelspec": {
   "display_name": "Python 2",
   "language": "python",
   "name": "python2"
  },
  "language_info": {
   "codemirror_mode": {
    "name": "ipython",
    "version": 2
   },
   "file_extension": ".py",
   "mimetype": "text/x-python",
   "name": "python",
   "nbconvert_exporter": "python",
   "pygments_lexer": "ipython2",
   "version": "2.7.14"
  }
 },
 "nbformat": 4,
 "nbformat_minor": 2
}
